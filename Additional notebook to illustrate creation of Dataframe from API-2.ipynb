{
 "cells": [
  {
   "cell_type": "code",
   "execution_count": 211,
   "id": "a896cdaf",
   "metadata": {},
   "outputs": [],
   "source": [
    "import requests\n",
    "import pandas as pd"
   ]
  },
  {
   "cell_type": "code",
   "execution_count": 217,
   "id": "f65793f9",
   "metadata": {},
   "outputs": [
    {
     "data": {
      "text/html": [
       "<div>\n",
       "<style scoped>\n",
       "    .dataframe tbody tr th:only-of-type {\n",
       "        vertical-align: middle;\n",
       "    }\n",
       "\n",
       "    .dataframe tbody tr th {\n",
       "        vertical-align: top;\n",
       "    }\n",
       "\n",
       "    .dataframe thead th {\n",
       "        text-align: right;\n",
       "    }\n",
       "</style>\n",
       "<table border=\"1\" class=\"dataframe\">\n",
       "  <thead>\n",
       "    <tr style=\"text-align: right;\">\n",
       "      <th></th>\n",
       "      <th>set_name</th>\n",
       "      <th>set_code</th>\n",
       "      <th>num_of_cards</th>\n",
       "      <th>tcg_date</th>\n",
       "    </tr>\n",
       "  </thead>\n",
       "  <tbody>\n",
       "    <tr>\n",
       "      <th>0</th>\n",
       "      <td>2-Player Starter Deck: Yuya &amp; Declan</td>\n",
       "      <td>YS15</td>\n",
       "      <td>42</td>\n",
       "      <td>2015-05-28</td>\n",
       "    </tr>\n",
       "    <tr>\n",
       "      <th>1</th>\n",
       "      <td>2013 Collectible Tins Wave 1</td>\n",
       "      <td>CT10</td>\n",
       "      <td>9</td>\n",
       "      <td>2013-08-30</td>\n",
       "    </tr>\n",
       "    <tr>\n",
       "      <th>2</th>\n",
       "      <td>2013 Collectible Tins Wave 2</td>\n",
       "      <td>CT10</td>\n",
       "      <td>9</td>\n",
       "      <td>2013-11-22</td>\n",
       "    </tr>\n",
       "    <tr>\n",
       "      <th>3</th>\n",
       "      <td>2014 Mega-Tin Mega Pack</td>\n",
       "      <td>MP14</td>\n",
       "      <td>247</td>\n",
       "      <td>2014-08-28</td>\n",
       "    </tr>\n",
       "    <tr>\n",
       "      <th>4</th>\n",
       "      <td>2014 Mega-Tins</td>\n",
       "      <td>CT11</td>\n",
       "      <td>6</td>\n",
       "      <td>2014-08-28</td>\n",
       "    </tr>\n",
       "  </tbody>\n",
       "</table>\n",
       "</div>"
      ],
      "text/plain": [
       "                               set_name set_code  num_of_cards    tcg_date\n",
       "0  2-Player Starter Deck: Yuya & Declan     YS15            42  2015-05-28\n",
       "1          2013 Collectible Tins Wave 1     CT10             9  2013-08-30\n",
       "2          2013 Collectible Tins Wave 2     CT10             9  2013-11-22\n",
       "3               2014 Mega-Tin Mega Pack     MP14           247  2014-08-28\n",
       "4                        2014 Mega-Tins     CT11             6  2014-08-28"
      ]
     },
     "execution_count": 217,
     "metadata": {},
     "output_type": "execute_result"
    }
   ],
   "source": [
    "#Import data and create dataframe\n",
    "yugioh = (requests.get('https://db.ygoprodeck.com/api/v7/cardsets.php').json())\n",
    "yugioh = pd.DataFrame(yugioh)\n",
    "yugioh.head()"
   ]
  },
  {
   "cell_type": "code",
   "execution_count": 218,
   "id": "90453571",
   "metadata": {},
   "outputs": [
    {
     "data": {
      "text/plain": [
       "set_name        object\n",
       "set_code        object\n",
       "num_of_cards     int64\n",
       "tcg_date        object\n",
       "dtype: object"
      ]
     },
     "execution_count": 218,
     "metadata": {},
     "output_type": "execute_result"
    }
   ],
   "source": [
    "#Inspect data types\n",
    "yugioh.dtypes"
   ]
  },
  {
   "cell_type": "code",
   "execution_count": 219,
   "id": "327a6828",
   "metadata": {},
   "outputs": [
    {
     "data": {
      "text/plain": [
       "(924, 4)"
      ]
     },
     "execution_count": 219,
     "metadata": {},
     "output_type": "execute_result"
    }
   ],
   "source": [
    "yugioh.shape"
   ]
  },
  {
   "cell_type": "code",
   "execution_count": 223,
   "id": "72e1436b",
   "metadata": {},
   "outputs": [],
   "source": [
    "#Convert 'tcg_date'to datetime object\n",
    "yugioh['tcg_date'] = pd.to_datetime(yugioh['tcg_date'])"
   ]
  },
  {
   "cell_type": "code",
   "execution_count": 224,
   "id": "cb3ab24c",
   "metadata": {},
   "outputs": [
    {
     "data": {
      "text/plain": [
       "set_name                object\n",
       "set_code                object\n",
       "num_of_cards             int64\n",
       "tcg_date        datetime64[ns]\n",
       "dtype: object"
      ]
     },
     "execution_count": 224,
     "metadata": {},
     "output_type": "execute_result"
    }
   ],
   "source": [
    "yugioh.dtypes"
   ]
  },
  {
   "cell_type": "code",
   "execution_count": 225,
   "id": "aeb87d25",
   "metadata": {},
   "outputs": [
    {
     "data": {
      "text/html": [
       "<div>\n",
       "<style scoped>\n",
       "    .dataframe tbody tr th:only-of-type {\n",
       "        vertical-align: middle;\n",
       "    }\n",
       "\n",
       "    .dataframe tbody tr th {\n",
       "        vertical-align: top;\n",
       "    }\n",
       "\n",
       "    .dataframe thead th {\n",
       "        text-align: right;\n",
       "    }\n",
       "</style>\n",
       "<table border=\"1\" class=\"dataframe\">\n",
       "  <thead>\n",
       "    <tr style=\"text-align: right;\">\n",
       "      <th></th>\n",
       "      <th>set_name</th>\n",
       "      <th>set_code</th>\n",
       "      <th>num_of_cards</th>\n",
       "    </tr>\n",
       "    <tr>\n",
       "      <th>tcg_date</th>\n",
       "      <th></th>\n",
       "      <th></th>\n",
       "      <th></th>\n",
       "    </tr>\n",
       "  </thead>\n",
       "  <tbody>\n",
       "    <tr>\n",
       "      <th>2015-05-28</th>\n",
       "      <td>2-Player Starter Deck: Yuya &amp; Declan</td>\n",
       "      <td>YS15</td>\n",
       "      <td>42</td>\n",
       "    </tr>\n",
       "    <tr>\n",
       "      <th>2013-08-30</th>\n",
       "      <td>2013 Collectible Tins Wave 1</td>\n",
       "      <td>CT10</td>\n",
       "      <td>9</td>\n",
       "    </tr>\n",
       "    <tr>\n",
       "      <th>2013-11-22</th>\n",
       "      <td>2013 Collectible Tins Wave 2</td>\n",
       "      <td>CT10</td>\n",
       "      <td>9</td>\n",
       "    </tr>\n",
       "    <tr>\n",
       "      <th>2014-08-28</th>\n",
       "      <td>2014 Mega-Tin Mega Pack</td>\n",
       "      <td>MP14</td>\n",
       "      <td>247</td>\n",
       "    </tr>\n",
       "    <tr>\n",
       "      <th>2014-08-28</th>\n",
       "      <td>2014 Mega-Tins</td>\n",
       "      <td>CT11</td>\n",
       "      <td>6</td>\n",
       "    </tr>\n",
       "    <tr>\n",
       "      <th>...</th>\n",
       "      <td>...</td>\n",
       "      <td>...</td>\n",
       "      <td>...</td>\n",
       "    </tr>\n",
       "    <tr>\n",
       "      <th>2018-03-29</th>\n",
       "      <td>Yugi &amp; Kaiba Collector Box</td>\n",
       "      <td>YUCB</td>\n",
       "      <td>2</td>\n",
       "    </tr>\n",
       "    <tr>\n",
       "      <th>2017-09-15</th>\n",
       "      <td>Yugi's Collector Box</td>\n",
       "      <td>YUCB</td>\n",
       "      <td>1</td>\n",
       "    </tr>\n",
       "    <tr>\n",
       "      <th>2015-11-12</th>\n",
       "      <td>Yugi's Legendary Decks</td>\n",
       "      <td>YGLD</td>\n",
       "      <td>126</td>\n",
       "    </tr>\n",
       "    <tr>\n",
       "      <th>2013-03-07</th>\n",
       "      <td>Zexal Collection Tin</td>\n",
       "      <td>ZTIN</td>\n",
       "      <td>24</td>\n",
       "    </tr>\n",
       "    <tr>\n",
       "      <th>2008-10-21</th>\n",
       "      <td>Zombie World Structure Deck</td>\n",
       "      <td>SDZW</td>\n",
       "      <td>37</td>\n",
       "    </tr>\n",
       "  </tbody>\n",
       "</table>\n",
       "<p>924 rows × 3 columns</p>\n",
       "</div>"
      ],
      "text/plain": [
       "                                        set_name set_code  num_of_cards\n",
       "tcg_date                                                               \n",
       "2015-05-28  2-Player Starter Deck: Yuya & Declan     YS15            42\n",
       "2013-08-30          2013 Collectible Tins Wave 1     CT10             9\n",
       "2013-11-22          2013 Collectible Tins Wave 2     CT10             9\n",
       "2014-08-28               2014 Mega-Tin Mega Pack     MP14           247\n",
       "2014-08-28                        2014 Mega-Tins     CT11             6\n",
       "...                                          ...      ...           ...\n",
       "2018-03-29            Yugi & Kaiba Collector Box     YUCB             2\n",
       "2017-09-15                  Yugi's Collector Box     YUCB             1\n",
       "2015-11-12                Yugi's Legendary Decks     YGLD           126\n",
       "2013-03-07                  Zexal Collection Tin     ZTIN            24\n",
       "2008-10-21           Zombie World Structure Deck     SDZW            37\n",
       "\n",
       "[924 rows x 3 columns]"
      ]
     },
     "execution_count": 225,
     "metadata": {},
     "output_type": "execute_result"
    }
   ],
   "source": [
    "#Set the date as the new index\n",
    "yugioh.set_index('tcg_date')"
   ]
  },
  {
   "cell_type": "code",
   "execution_count": null,
   "id": "abe6553b",
   "metadata": {},
   "outputs": [],
   "source": []
  }
 ],
 "metadata": {
  "kernelspec": {
   "display_name": "Python 3",
   "language": "python",
   "name": "python3"
  },
  "language_info": {
   "codemirror_mode": {
    "name": "ipython",
    "version": 3
   },
   "file_extension": ".py",
   "mimetype": "text/x-python",
   "name": "python",
   "nbconvert_exporter": "python",
   "pygments_lexer": "ipython3",
   "version": "3.8.8"
  }
 },
 "nbformat": 4,
 "nbformat_minor": 5
}
