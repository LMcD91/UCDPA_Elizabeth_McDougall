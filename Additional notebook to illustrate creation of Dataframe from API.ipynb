{
 "cells": [
  {
   "cell_type": "code",
   "execution_count": 211,
   "id": "a896cdaf",
   "metadata": {},
   "outputs": [],
   "source": [
    "import requests\n",
    "import pandas as pd"
   ]
  },
  {
   "cell_type": "code",
   "execution_count": 217,
   "id": "f65793f9",
   "metadata": {},
   "outputs": [
    {
     "data": {
      "text/html": [
       "<div>\n",
       "<style scoped>\n",
       "    .dataframe tbody tr th:only-of-type {\n",
       "        vertical-align: middle;\n",
       "    }\n",
       "\n",
       "    .dataframe tbody tr th {\n",
       "        vertical-align: top;\n",
       "    }\n",
       "\n",
       "    .dataframe thead th {\n",
       "        text-align: right;\n",
       "    }\n",
       "</style>\n",
       "<table border=\"1\" class=\"dataframe\">\n",
       "  <thead>\n",
       "    <tr style=\"text-align: right;\">\n",
       "      <th></th>\n",
       "      <th>set_name</th>\n",
       "      <th>set_code</th>\n",
       "      <th>num_of_cards</th>\n",
       "      <th>tcg_date</th>\n",
       "    </tr>\n",
       "  </thead>\n",
       "  <tbody>\n",
       "    <tr>\n",
       "      <th>0</th>\n",
       "      <td>2-Player Starter Deck: Yuya &amp; Declan</td>\n",
       "      <td>YS15</td>\n",
       "      <td>42</td>\n",
       "      <td>2015-05-28</td>\n",
       "    </tr>\n",
       "    <tr>\n",
       "      <th>1</th>\n",
       "      <td>2013 Collectible Tins Wave 1</td>\n",
       "      <td>CT10</td>\n",
       "      <td>9</td>\n",
       "      <td>2013-08-30</td>\n",
       "    </tr>\n",
       "    <tr>\n",
       "      <th>2</th>\n",
       "      <td>2013 Collectible Tins Wave 2</td>\n",
       "      <td>CT10</td>\n",
       "      <td>9</td>\n",
       "      <td>2013-11-22</td>\n",
       "    </tr>\n",
       "    <tr>\n",
       "      <th>3</th>\n",
       "      <td>2014 Mega-Tin Mega Pack</td>\n",
       "      <td>MP14</td>\n",
       "      <td>247</td>\n",
       "      <td>2014-08-28</td>\n",
       "    </tr>\n",
       "    <tr>\n",
       "      <th>4</th>\n",
       "      <td>2014 Mega-Tins</td>\n",
       "      <td>CT11</td>\n",
       "      <td>6</td>\n",
       "      <td>2014-08-28</td>\n",
       "    </tr>\n",
       "  </tbody>\n",
       "</table>\n",
       "</div>"
      ],
      "text/plain": [
       "                               set_name set_code  num_of_cards    tcg_date\n",
       "0  2-Player Starter Deck: Yuya & Declan     YS15            42  2015-05-28\n",
       "1          2013 Collectible Tins Wave 1     CT10             9  2013-08-30\n",
       "2          2013 Collectible Tins Wave 2     CT10             9  2013-11-22\n",
       "3               2014 Mega-Tin Mega Pack     MP14           247  2014-08-28\n",
       "4                        2014 Mega-Tins     CT11             6  2014-08-28"
      ]
     },
     "execution_count": 217,
     "metadata": {},
     "output_type": "execute_result"
    }
   ],
   "source": [
    "#Import data and create dataframe\n",
    "yugioh = (requests.get('https://db.ygoprodeck.com/api/v7/cardsets.php').json())\n",
    "yugioh = pd.DataFrame(yugioh)\n",
    "yugioh.head()"
   ]
  },
  {
   "cell_type": "code",
   "execution_count": 218,
   "id": "90453571",
   "metadata": {},
   "outputs": [
    {
     "data": {
      "text/plain": [
       "set_name        object\n",
       "set_code        object\n",
       "num_of_cards     int64\n",
       "tcg_date        object\n",
       "dtype: object"
      ]
     },
     "execution_count": 218,
     "metadata": {},
     "output_type": "execute_result"
    }
   ],
   "source": [
    "#Inspect data types\n",
    "yugioh.dtypes"
   ]
  },
  {
   "cell_type": "code",
   "execution_count": 219,
   "id": "327a6828",
   "metadata": {},
   "outputs": [
    {
     "data": {
      "text/plain": [
       "(924, 4)"
      ]
     },
     "execution_count": 219,
     "metadata": {},
     "output_type": "execute_result"
    }
   ],
   "source": [
    "yugioh.shape"
   ]
  }
 ],
 "metadata": {
  "kernelspec": {
   "display_name": "Python 3",
   "language": "python",
   "name": "python3"
  },
  "language_info": {
   "codemirror_mode": {
    "name": "ipython",
    "version": 3
   },
   "file_extension": ".py",
   "mimetype": "text/x-python",
   "name": "python",
   "nbconvert_exporter": "python",
   "pygments_lexer": "ipython3",
   "version": "3.8.8"
  }
 },
 "nbformat": 4,
 "nbformat_minor": 5
}
